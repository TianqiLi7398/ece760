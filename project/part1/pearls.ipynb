{
 "cells": [
  {
   "cell_type": "code",
   "execution_count": 31,
   "metadata": {},
   "outputs": [],
   "source": [
    "import numpy as np\n",
    "from graph import DAG\n",
    "import sys\n",
    "import copy\n",
    "\n",
    "\n",
    "class Pearls(DAG):\n",
    "\n",
    "    def __init__(self,  graph_dict, marginal, CPD):\n",
    "        \n",
    "        DAG.__init__(self,  graph_dict)\n",
    "        self.E, self.e = [],[]\n",
    "        self.value = [0,1]\n",
    "        self.lamda = dict.fromkeys(graph_dict.keys())\n",
    "        self.pi = dict.fromkeys(graph_dict.keys())\n",
    "        self.lamda_msg = dict.fromkeys(graph_dict.keys())\n",
    "        self.pi_msg = dict.fromkeys(graph_dict.keys())\n",
    "        \n",
    "        self.cpd = dict.fromkeys(graph_dict.keys())\n",
    "        \n",
    "        for x in self.vertices:\n",
    "            self.lamda[x], self.lamda_msg[x], self.pi[x], self.pi_msg[x], self.cpd[x] = {},{},{},{},{}\n",
    "        \n",
    "#         given info of the graph\n",
    "        self.marginal = marginal\n",
    "        self.CPD = CPD \n",
    "        \n",
    "        \n",
    "        self.get_root()\n",
    "#         initialize laumda\n",
    "        for x in self.vertices:\n",
    "            for x_value in self.value:\n",
    "                self.lamda[x][x_value] = 1\n",
    "                \n",
    "#         initialize lamuda_msg\n",
    "            for z in self.parents[x]:\n",
    "                self.lamda_msg[z][x] = {}\n",
    "                for z_value in self.value:\n",
    "                    self.lamda_msg[z][x][z_value] = 1\n",
    "                    \n",
    "#          initialize pi_msg\n",
    "            for y in self.graph_dict[x]:\n",
    "    \n",
    "                self.pi_msg[x][y] = {}\n",
    "                for x_value in self.value:\n",
    "                    self.pi_msg[x][y][x_value] = 1\n",
    "        \n",
    "        \n",
    "        \n",
    "#         send pi_message\n",
    "        for R in self.root:\n",
    "            for r_value in self.value:\n",
    "                self.pi[R][r_value] = self.marginal[R][r_value]\n",
    "                self.cpd[R][r_value] = self.marginal[R][r_value]\n",
    "            \n",
    "            for W in self.graph_dict[R]:\n",
    "                self.send_pi_msg(R,W)\n",
    "        \n",
    "\n",
    "            \n",
    "        \n",
    "    def get_root(self):\n",
    "        self.root = []\n",
    "        for x in self.vertices:\n",
    "            if self.parents[x] == []:\n",
    "                self.root.append(x)\n",
    "        return \n",
    "    \n",
    "    def send_pi_msg(self, Z,X):\n",
    "#         Z is parent node, X is child node\n",
    "        \n",
    "#         get all parent of Z:\n",
    "        U = copy.deepcopy(self.graph_dict[Z])\n",
    "        U.remove(X)\n",
    "        for z_value in self.value:\n",
    "            self.pi_msg[Z][X][z_value] = self.pi[Z][z_value]\n",
    "            \n",
    "            if U != None:\n",
    "                for u in U:\n",
    "                    \n",
    "                    self.pi_msg[Z][X][z_value] = self.pi_msg[Z][X][z_value] * self.lamda_msg[Z][u][z_value]\n",
    "        \n",
    "        P_tilta = []\n",
    "        if X not in self.E:\n",
    "            for x_value in self.value:\n",
    "                [zs, probs] = self.CPD[X]\n",
    "                total = self.calculate_pi(X,x_value, zs, probs)\n",
    "                self.pi[X][x_value] = total\n",
    "                P_tilta.append(self.lamda[X][x_value] * self.pi[X][x_value])\n",
    "            \n",
    "            self.normalize(X, P_tilta)\n",
    "            \n",
    "            for Y in self.graph_dict[X]:\n",
    "                self.send_pi_msg(X, Y)\n",
    "        \n",
    "        for x_value in self.value:\n",
    "            if self.lamda[X][x_value] != 1:\n",
    "                other_parents = copy.deepcopy(self.parents[X])\n",
    "                other_parents.remove(Z)\n",
    "                if other_parents != None:\n",
    "                    for W in other_parents:\n",
    "                        if W not in self.E:\n",
    "                            self.send_lamda_msg(X,W)\n",
    "                \n",
    "        \n",
    "        return\n",
    "    \n",
    "    def calculate_pi(self,X, x,zs, probs):\n",
    "#         X: node name of X, x is value of the X node\n",
    "#         zs are node names of all other parents\n",
    "#         probs will be a 2^n dimentional matrix for n parents\n",
    "        k = len(zs)\n",
    "        \n",
    "        prob_matrix = np.matrix(probs)\n",
    "        prob_matrix = prob_matrix.flatten()\n",
    "        total = 0\n",
    "        \n",
    "        for i in range(2**k):\n",
    "            \n",
    "            if x ==1:\n",
    "                p = prob_matrix[0,i]\n",
    "            else:\n",
    "                p = 1 - prob_matrix[0,i]\n",
    "            \n",
    "            for j in range(k):\n",
    "                if i - 2**(k-j-1) + 1 > 0:\n",
    "#                     this means z_k value is 1\n",
    "                    p = p* self.pi_msg[zs[j]][X][1]\n",
    "                    i = i - 2**(k-j-1)\n",
    "                else:\n",
    "                    p = p* self.pi_msg[zs[j]][X][0]\n",
    "            total += p\n",
    "        return total\n",
    "    \n",
    "    def normalize(self, X, P):\n",
    "        sum_ = 0\n",
    "        for i in self.value:\n",
    "            sum_ += P[i]\n",
    "        for x_value in self.value:\n",
    "            self.cpd[X][x_value] = P[x_value] / sum_\n",
    "    \n",
    "    def calculate_lamda(self,X, x, Y, zs, probs):\n",
    "        k = len(zs)\n",
    "        \n",
    "        prob_matrix = np.matrix(probs)\n",
    "        prob_matrix = prob_matrix.flatten()\n",
    "        total = 0\n",
    "        x_index = zs.index(X)\n",
    "        \n",
    "        for y in self.value:\n",
    "            \n",
    "            for i in range(2**k):\n",
    "\n",
    "                if y ==1:\n",
    "                    p = prob_matrix[0,i]\n",
    "                else:\n",
    "                    p = 1 - prob_matrix[0,i]\n",
    "\n",
    "                for j in range(k):\n",
    "                    if i - 2**(k-j-1) + 1 > 0:\n",
    "    #                     this means z_k = 1\n",
    "                        if j == x_index:\n",
    "#                             pass x\n",
    "                            if x != 1:\n",
    "                                p = 0\n",
    "                            else:\n",
    "                                p = p\n",
    "                                \n",
    "                        else:\n",
    "                            p = p* self.pi_msg[zs[j]][Y][1]\n",
    "                        \n",
    "                        #   update i\n",
    "                        i = i - 2**(k-j-1)\n",
    "                    else:\n",
    "#                         this means z_k = 0\n",
    "                        \n",
    "                        if j == x_index:\n",
    "                #             pass x\n",
    "                            if x != 0:\n",
    "                                p = 0\n",
    "                            else:\n",
    "                                p = p\n",
    "                        else:\n",
    "                            p = p* self.pi_msg[zs[j]][Y][0]\n",
    "                        \n",
    "                total += p * self.lamda[Y][y]\n",
    "        return total\n",
    "                \n",
    "    def send_lamda_msg(self, Y,X):\n",
    "#         Y(child) -> X(parent)\n",
    "        \n",
    "        P_tilta = []\n",
    "        \n",
    "        for x_value in self.value:\n",
    "            [zs, probs] = self.CPD[Y]\n",
    "            self.lamda_msg[X][Y][x_value] = self.calculate_lamda(X, x_value, Y, zs, probs)\n",
    "            \n",
    "            lamda = 1\n",
    "            \n",
    "#             calculate lamuda(x)\n",
    "            for u in self.graph_dict[X]:\n",
    "                lamda = lamda * self.lamda_msg[X][u][x_value]\n",
    "            self.lamda[X][x_value] = lamda\n",
    "            \n",
    "            P_tilta.append(self.lamda[X][x_value] * self.pi[X][x_value])\n",
    "        \n",
    "#         get self.cpd\n",
    "        self.normalize(X, P_tilta)\n",
    "    \n",
    "        for Z in self.parents[X]:\n",
    "            if Z not in self.E:\n",
    "                self.send_lamda_msg(X, Z)\n",
    "        \n",
    "        for U in self.graph_dict[X]:\n",
    "            if U != Y:\n",
    "                self.send_pi_msg(X,U)\n",
    "                \n",
    "        return\n",
    "    \n",
    "    def update_network(self, V, v_value_hat):\n",
    "        \n",
    "        self.E.append(V)\n",
    "        self.e.append((V,v_value_hat));\n",
    "        \n",
    "        for v in self.value:\n",
    "            if v == v_value_hat:\n",
    "                self.lamda[V][v] =1\n",
    "                self.pi[V][v] = 1\n",
    "                self.cpd[V][v] = 1\n",
    "            else:\n",
    "                self.lamda[V][v] =0\n",
    "                self.pi[V][v] = 0\n",
    "                self.cpd[V][v] = 0\n",
    "        \n",
    "        for Z in self.parents[V]:\n",
    "            if Z not in self.E:\n",
    "                self.send_lamda_msg(V,Z)\n",
    "        \n",
    "        for Y in self.graph_dict[V]:\n",
    "            self.send_pi_msg(V,Y)\n",
    "            \n",
    "        return\n",
    "    \n",
    "def solver(g, marginal,CPD, questions):\n",
    "    '''\n",
    "    This function is for solving the CPD inference, \n",
    "    P(X = x|E = e)\n",
    "    '''\n",
    "    Answers = []\n",
    "    for q in questions:\n",
    "        \n",
    "        A = Pearls(g, marginal,CPD)\n",
    "        answer = 1\n",
    "        [X,E,x,e] = q\n",
    "        for i in range(len(E)):\n",
    "            A.update_network(E[i],e[i])\n",
    "        \n",
    "#         if len(X) > 1:\n",
    "        for j in range(len(X)):\n",
    "            answer = answer * A.cpd[X[j]][x[j]]\n",
    "            A.update_network(X[j],x[j])\n",
    "#                 answer = answer * A.cpd[X[j]][x[j]]\n",
    "        \n",
    "#         answer = answer * A.cpd[X[-1]][x[-1]]\n",
    "        print(\"P(\", X, \"=\", x, \" | e = \", E, \"=\", e, \") = \", answer)\n",
    "        Answers.append(answer)\n",
    "    return Answers\n",
    "            \n",
    " "
   ]
  },
  {
   "cell_type": "code",
   "execution_count": 32,
   "metadata": {},
   "outputs": [
    {
     "name": "stdout",
     "output_type": "stream",
     "text": [
      "P( ['a'] = [1]  | e =  ['b'] = [0] ) =  0.7\n",
      "P( ['a'] = [1]  | e =  ['d'] = [0] ) =  0.768691588785\n",
      "P( ['a'] = [1]  | e =  ['d', 'b'] = [0, 0] ) =  0.765625\n",
      "P( ['a'] = [1]  | e =  ['d', 'g'] = [0, 1] ) =  0.768691588785\n",
      "P( ['b'] = [1]  | e =  ['a'] = [1] ) =  0.4\n",
      "P( ['b'] = [1]  | e =  ['c'] = [1] ) =  0.684210526316\n",
      "P( ['b'] = [1]  | e =  ['a', 'c'] = [1, 1] ) =  0.666666666667\n",
      "P( ['b'] = [1]  | e =  ['c', 'f'] = [1, 0] ) =  0.684210526316\n",
      "P( ['c'] = [1]  | e =  [] = [] ) =  0.456\n",
      "P( ['c'] = [1]  | e =  ['a'] = [1] ) =  0.54\n",
      "P( ['c'] = [1]  | e =  ['a', 'b'] = [1, 0] ) =  0.3\n",
      "P( ['c'] = [1]  | e =  ['d'] = [0] ) =  0.745794392523\n",
      "P( ['c'] = [1]  | e =  ['d', 'f'] = [0, 0] ) =  0.745794392523\n",
      "P( ['d'] = [1]  | e =  [] = [] ) =  0.572\n",
      "P( ['d'] = [1]  | e =  ['e'] = [0] ) =  0.652331606218\n",
      "P( ['d'] = [1]  | e =  ['c', 'e'] = [0, 0] ) =  0.8\n",
      "P( ['d'] = [1]  | e =  ['b', 'g'] = [1, 0] ) =  0.806557377049\n",
      "P( ['d'] = [1]  | e =  ['b', 'g', 'f'] = [1, 0, 1] ) =  0.966872543515\n",
      "P( ['e'] = [1]  | e =  [] = [] ) =  0.3824\n",
      "P( ['e'] = [1]  | e =  ['c'] = [1] ) =  0.6\n",
      "P( ['e'] = [1]  | e =  ['f'] = [0] ) =  0.435862068966\n",
      "P( ['e'] = [1]  | e =  ['c', 'f'] = [1, 0] ) =  0.6\n",
      "P( ['e'] = [1]  | e =  ['a', 'b'] = [1, 1] ) =  0.56\n",
      "P( ['f'] = [1]  | e =  [] = [] ) =  0.4432\n",
      "P( ['f'] = [1]  | e =  ['a'] = [1] ) =  0.418\n",
      "P( ['f'] = [1]  | e =  ['a', 'c'] = [1, 0] ) =  0.58\n",
      "P( ['f'] = [1]  | e =  ['a', 'c', 'e'] = [1, 0, 0] ) =  0.58\n",
      "P( ['f'] = [1]  | e =  ['b', 'g'] = [1, 0] ) =  0.58393442623\n",
      "P( ['g'] = [1]  | e =  [] = [] ) =  0.614\n",
      "P( ['g'] = [1]  | e =  ['c'] = [0] ) =  0.5\n",
      "P( ['g'] = [1]  | e =  ['c', 'd'] = [0, 0] ) =  0.9\n",
      "P( ['g'] = [1]  | e =  ['e'] = [0] ) =  0.573834196891\n",
      "P( ['g'] = [1]  | e =  ['a', 'b'] = [0, 1] ) =  0.625\n",
      "P( ['a', 'd'] = [1, 1]  | e =  ['f', 'b'] = [0, 1] ) =  0.112385321101\n",
      "P( ['c', 'e'] = [0, 1]  | e =  ['f', 'g'] = [1, 0] ) =  0.15039424178\n",
      "P( ['f', 'b'] = [0, 1]  | e =  ['g', 'e'] = [0, 1] ) =  0.201576547231\n",
      "P( ['g', 'b'] = [1, 0]  | e =  ['f', 'a'] = [1, 0] ) =  0.277888446215\n"
     ]
    }
   ],
   "source": [
    "answers = solver(g, marginal,CPD, questions)"
   ]
  },
  {
   "cell_type": "code",
   "execution_count": 13,
   "metadata": {},
   "outputs": [],
   "source": [
    "q = [[\"a\"], [\"b\"], [0], [1]]\n",
    "A = Pearls(g, marginal,CPD)\n",
    "answer = 1\n",
    "[X,E,x,e] = q"
   ]
  },
  {
   "cell_type": "code",
   "execution_count": null,
   "metadata": {},
   "outputs": [],
   "source": []
  },
  {
   "cell_type": "code",
   "execution_count": 16,
   "metadata": {},
   "outputs": [
    {
     "data": {
      "text/plain": [
       "0.3"
      ]
     },
     "execution_count": 16,
     "metadata": {},
     "output_type": "execute_result"
    }
   ],
   "source": [
    "A.cpd[X[-1]][x[-1]]"
   ]
  },
  {
   "cell_type": "code",
   "execution_count": 25,
   "metadata": {},
   "outputs": [],
   "source": [
    "questions = [[[\"a\"], [\"b\"], [1], [0]], \n",
    "             [[\"a\"], [\"d\"], [1], [0]], \n",
    "             [[\"a\"], [\"d\",\"b\"], [1], [0,0]], \n",
    "             [[\"a\"], [\"d\", \"g\"], [1], [0,1]],\n",
    "             [[\"b\"], [\"a\"], [1], [1]],\n",
    "             [[\"b\"], [\"c\"], [1], [1]],\n",
    "             [[\"b\"], [\"a\",\"c\"], [1], [1,1]],\n",
    "             [[\"b\"], [\"c\", \"f\"], [1], [1,0]],\n",
    "             [[\"c\"], [], [1], []],\n",
    "             [[\"c\"], [\"a\"], [1], [1]],\n",
    "             [[\"c\"], [\"a\", \"b\"], [1], [1,0]],\n",
    "             [[\"c\"], [\"d\"], [1], [0]],\n",
    "             [[\"c\"], [\"d\", \"f\"], [1], [0,0]],\n",
    "             [[\"d\"], [], [1], []],\n",
    "             [[\"d\"], [\"e\"], [1], [0]],\n",
    "             [[\"d\"], [\"c\",\"e\"], [1], [0,0]],\n",
    "             [[\"d\"], [\"b\", \"g\"], [1], [1,0]],\n",
    "             [[\"d\"], [\"b\",\"g\",\"f\"], [1],[1,0,1]],\n",
    "             [[\"e\"], [], [1], []],\n",
    "             [[\"e\"], [\"c\"], [1], [1]],\n",
    "             [[\"e\"], [\"f\"], [1], [0]],\n",
    "             [[\"e\"], [\"c\",\"f\"], [1], [1,0]],\n",
    "             [[\"e\"], [\"a\", \"b\"], [1], [1,1]],\n",
    "             [[\"f\"], [], [1], []],\n",
    "             [[\"f\"], [\"a\"], [1], [1]],\n",
    "             [[\"f\"], [\"a\", \"c\"], [1], [1,0]],\n",
    "             [[\"f\"], [\"a\", \"c\", \"e\"], [1], [1,0,0]],\n",
    "             [[\"f\"], [\"b\", \"g\"], [1], [1,0]],\n",
    "             [[\"g\"], [], [1], []],\n",
    "             [[\"g\"], [\"c\"], [1], [0]],\n",
    "             [[\"g\"], [\"c\", \"d\"], [1], [0,0]],\n",
    "             [[\"g\"], [\"e\"], [1], [0]],\n",
    "             [[\"g\"], [\"a\", \"b\"], [1], [0,1]],\n",
    "             [[\"a\", \"d\"], [\"f\", \"b\"], [1,1], [0,1]],\n",
    "             [[\"c\", \"e\"], [\"f\", \"g\"], [0,1], [1,0]],\n",
    "             [[\"f\", \"b\"], [\"g\", \"e\"], [0,1], [0,1]],\n",
    "             [[\"g\", \"b\"], [\"f\", \"a\"], [1,0], [1,0]]]                                                                                                   "
   ]
  },
  {
   "cell_type": "code",
   "execution_count": 10,
   "metadata": {},
   "outputs": [],
   "source": [
    "g = {\"a\": [\"c\"],\n",
    "     \"b\": [\"c\"],\n",
    "     \"c\": [\"d\",\"e\"],\n",
    "     \"d\": [\"f\", \"g\"],\n",
    "     \"e\": [],\n",
    "     \"f\": [],\n",
    "     \"g\": []\n",
    "     }\n",
    "marginal = {\"a\": {1:0.7,0:0.3},\n",
    "     \"b\": {1:0.4,0:0.6},\n",
    "     \"c\": {1,0},\n",
    "     \"d\": {1,0},\n",
    "     \"e\": {1,0},\n",
    "     \"f\": {1,0},\n",
    "     \"g\": {1,0}  \n",
    "     }\n",
    "CPD = {\"a\":[],\n",
    "     \"b\":[],\n",
    "     \"c\": [[\"a\",\"b\"],[[0.1, 0.5],[ 0.3, 0.9]]],\n",
    "     \"d\": [[\"c\"], [0.8, 0.3]],\n",
    "     \"e\": [[\"c\"], [0.2, 0.6]],\n",
    "     \"f\": [[\"d\"], [0.1, 0.7]],\n",
    "     \"g\": [[\"d\"], [0.9, 0.4]]\n",
    "}"
   ]
  },
  {
   "cell_type": "code",
   "execution_count": 11,
   "metadata": {},
   "outputs": [
    {
     "data": {
      "text/plain": [
       "{'a': {0: 0.3, 1: 0.7},\n",
       " 'b': {0: 0.6, 1: 0.4},\n",
       " 'c': {0: 0.54399999999999993, 1: 0.45600000000000002},\n",
       " 'd': {0: 0.42799999999999999, 1: 0.57200000000000006},\n",
       " 'e': {0: 0.61759999999999993, 1: 0.38240000000000002},\n",
       " 'f': {0: 0.55680000000000007, 1: 0.44319999999999998},\n",
       " 'g': {0: 0.38600000000000007, 1: 0.61399999999999999}}"
      ]
     },
     "execution_count": 11,
     "metadata": {},
     "output_type": "execute_result"
    }
   ],
   "source": [
    "A = Pearls(g, marginal,CPD)\n",
    "# A.update_network(\"c\", 1)\n",
    "# A.update_network(\"f\", 0)\n",
    "A.cpd"
   ]
  },
  {
   "cell_type": "code",
   "execution_count": 12,
   "metadata": {},
   "outputs": [
    {
     "ename": "TypeError",
     "evalue": "unsupported operand type(s) for *: 'int' and 'dict'",
     "output_type": "error",
     "traceback": [
      "\u001b[0;31m---------------------------------------------------------------------------\u001b[0m",
      "\u001b[0;31mTypeError\u001b[0m                                 Traceback (most recent call last)",
      "\u001b[0;32m<ipython-input-12-7b77624b1567>\u001b[0m in \u001b[0;36m<module>\u001b[0;34m()\u001b[0m\n\u001b[0;32m----> 1\u001b[0;31m \u001b[0manswers\u001b[0m \u001b[0;34m=\u001b[0m \u001b[0msolver\u001b[0m\u001b[0;34m(\u001b[0m\u001b[0mg\u001b[0m\u001b[0;34m,\u001b[0m \u001b[0mmarginal\u001b[0m\u001b[0;34m,\u001b[0m\u001b[0mCPD\u001b[0m\u001b[0;34m,\u001b[0m \u001b[0mquestions\u001b[0m\u001b[0;34m)\u001b[0m\u001b[0;34m\u001b[0m\u001b[0m\n\u001b[0m",
      "\u001b[0;32m<ipython-input-8-90854e5cc490>\u001b[0m in \u001b[0;36msolver\u001b[0;34m(g, marginal, CPD, questions)\u001b[0m\n\u001b[1;32m    260\u001b[0m                 \u001b[0mself\u001b[0m\u001b[0;34m.\u001b[0m\u001b[0mupdate_network\u001b[0m\u001b[0;34m(\u001b[0m\u001b[0mX\u001b[0m\u001b[0;34m[\u001b[0m\u001b[0mi\u001b[0m\u001b[0;34m]\u001b[0m\u001b[0;34m,\u001b[0m\u001b[0mx\u001b[0m\u001b[0;34m[\u001b[0m\u001b[0mi\u001b[0m\u001b[0;34m]\u001b[0m\u001b[0;34m)\u001b[0m\u001b[0;34m\u001b[0m\u001b[0m\n\u001b[1;32m    261\u001b[0m                 \u001b[0manswer\u001b[0m \u001b[0;34m=\u001b[0m \u001b[0manswer\u001b[0m \u001b[0;34m*\u001b[0m \u001b[0mA\u001b[0m\u001b[0;34m.\u001b[0m\u001b[0mcpd\u001b[0m\u001b[0;34m[\u001b[0m\u001b[0mX\u001b[0m\u001b[0;34m[\u001b[0m\u001b[0mi\u001b[0m\u001b[0;34m]\u001b[0m\u001b[0;34m]\u001b[0m\u001b[0;34m[\u001b[0m\u001b[0mx\u001b[0m\u001b[0;34m[\u001b[0m\u001b[0mi\u001b[0m\u001b[0;34m]\u001b[0m\u001b[0;34m]\u001b[0m\u001b[0;34m\u001b[0m\u001b[0m\n\u001b[0;32m--> 262\u001b[0;31m         \u001b[0manswer\u001b[0m \u001b[0;34m=\u001b[0m \u001b[0manswer\u001b[0m \u001b[0;34m*\u001b[0m \u001b[0mA\u001b[0m\u001b[0;34m.\u001b[0m\u001b[0mcpd\u001b[0m\u001b[0;34m[\u001b[0m\u001b[0mX\u001b[0m\u001b[0;34m[\u001b[0m\u001b[0;34m-\u001b[0m\u001b[0;36m1\u001b[0m\u001b[0;34m]\u001b[0m\u001b[0;34m[\u001b[0m\u001b[0mx\u001b[0m\u001b[0;34m[\u001b[0m\u001b[0;34m-\u001b[0m\u001b[0;36m1\u001b[0m\u001b[0;34m]\u001b[0m\u001b[0;34m]\u001b[0m\u001b[0;34m]\u001b[0m\u001b[0;34m\u001b[0m\u001b[0m\n\u001b[0m\u001b[1;32m    263\u001b[0m         \u001b[0mprint\u001b[0m\u001b[0;34m(\u001b[0m\u001b[0;34m\"P(\"\u001b[0m\u001b[0;34m,\u001b[0m \u001b[0mX\u001b[0m\u001b[0;34m,\u001b[0m \u001b[0;34m\"=\"\u001b[0m\u001b[0;34m,\u001b[0m \u001b[0mx\u001b[0m\u001b[0;34m,\u001b[0m \u001b[0;34m\" | E = \"\u001b[0m\u001b[0;34m,\u001b[0m \u001b[0mE\u001b[0m\u001b[0;34m,\u001b[0m \u001b[0;34m\"=\"\u001b[0m\u001b[0;34m,\u001b[0m \u001b[0me\u001b[0m\u001b[0;34m,\u001b[0m \u001b[0;34m\") = \"\u001b[0m\u001b[0;34m,\u001b[0m \u001b[0manswer\u001b[0m\u001b[0;34m)\u001b[0m\u001b[0;34m\u001b[0m\u001b[0m\n\u001b[1;32m    264\u001b[0m         \u001b[0mAnswers\u001b[0m\u001b[0;34m.\u001b[0m\u001b[0mappend\u001b[0m\u001b[0;34m(\u001b[0m\u001b[0manswer\u001b[0m\u001b[0;34m)\u001b[0m\u001b[0;34m\u001b[0m\u001b[0m\n",
      "\u001b[0;31mTypeError\u001b[0m: unsupported operand type(s) for *: 'int' and 'dict'"
     ]
    }
   ],
   "source": [
    "answers = solver(g, marginal,CPD, questions)"
   ]
  },
  {
   "cell_type": "code",
   "execution_count": 7,
   "metadata": {},
   "outputs": [
    {
     "data": {
      "text/plain": [
       "{'a': {0: 0, 1: 1},\n",
       " 'b': {0: 0, 1: 1},\n",
       " 'c': {0: 0.06086956521739129, 1: 0.9391304347826086},\n",
       " 'd': {0: 0.8478260869565217, 1: 0.15217391304347827},\n",
       " 'e': {0: 0.4243478260869566, 1: 0.5756521739130435},\n",
       " 'f': {0: 1, 1: 0},\n",
       " 'g': {0: 0.17608695652173909, 1: 0.8239130434782609}}"
      ]
     },
     "execution_count": 7,
     "metadata": {},
     "output_type": "execute_result"
    }
   ],
   "source": [
    "A.update_network(\"a\", 1)\n",
    "# A.update_network(\"b\", 0)\n",
    "A.cpd"
   ]
  },
  {
   "cell_type": "code",
   "execution_count": 8,
   "metadata": {},
   "outputs": [
    {
     "data": {
      "text/plain": [
       "{'a': {0: 0, 1: 1},\n",
       " 'b': {0: 0, 1: 1},\n",
       " 'c': {0: 0.22857142857142856, 1: 0.7714285714285716},\n",
       " 'd': {0: 0, 1: 1},\n",
       " 'e': {0: 0.49142857142857144, 1: 0.5085714285714286},\n",
       " 'f': {0: 1, 1: 0},\n",
       " 'g': {0: 0.6, 1: 0.4}}"
      ]
     },
     "execution_count": 8,
     "metadata": {},
     "output_type": "execute_result"
    }
   ],
   "source": [
    "A.update_network(\"d\", 1)\n",
    "A.cpd"
   ]
  },
  {
   "cell_type": "code",
   "execution_count": 10,
   "metadata": {},
   "outputs": [
    {
     "data": {
      "text/plain": [
       "0.11232585000000002"
      ]
     },
     "execution_count": 10,
     "metadata": {},
     "output_type": "execute_result"
    }
   ],
   "source": [
    "0.7385*0.1521"
   ]
  },
  {
   "cell_type": "markdown",
   "metadata": {},
   "source": [
    "$P(A_1 , D_1 | F_0, B_1)$"
   ]
  },
  {
   "cell_type": "code",
   "execution_count": 305,
   "metadata": {},
   "outputs": [
    {
     "data": {
      "text/plain": [
       "0"
      ]
     },
     "execution_count": 305,
     "metadata": {},
     "output_type": "execute_result"
    }
   ],
   "source": [
    "c.index(1)"
   ]
  },
  {
   "cell_type": "code",
   "execution_count": 268,
   "metadata": {},
   "outputs": [
    {
     "data": {
      "text/plain": [
       "True"
      ]
     },
     "execution_count": 268,
     "metadata": {},
     "output_type": "execute_result"
    }
   ],
   "source": [
    "'c' not in A.E"
   ]
  },
  {
   "cell_type": "code",
   "execution_count": 306,
   "metadata": {},
   "outputs": [],
   "source": [
    "for i in []:\n",
    "    print(i)"
   ]
  },
  {
   "cell_type": "code",
   "execution_count": null,
   "metadata": {},
   "outputs": [],
   "source": []
  }
 ],
 "metadata": {
  "kernelspec": {
   "display_name": "Python 3",
   "language": "python",
   "name": "python3"
  },
  "language_info": {
   "codemirror_mode": {
    "name": "ipython",
    "version": 3
   },
   "file_extension": ".py",
   "mimetype": "text/x-python",
   "name": "python",
   "nbconvert_exporter": "python",
   "pygments_lexer": "ipython3",
   "version": "3.5.0"
  }
 },
 "nbformat": 4,
 "nbformat_minor": 2
}
