{
 "cells": [
  {
   "cell_type": "code",
   "execution_count": 102,
   "metadata": {},
   "outputs": [],
   "source": [
    "from collections import deque\n",
    "\n",
    "g = {\"a\": [\"d\"],\n",
    "     \"b\": [\"d\"],\n",
    "     \"c\": [\"e\"],\n",
    "     \"d\": [\"g\", \"h\"],\n",
    "     \"e\": [\"i\"],\n",
    "     \"f\": [\"i\", \"j\"],\n",
    "     \"g\": [\"k\"],\n",
    "     \"h\": [\"k\", \"e\"],\n",
    "     \"i\": [\"l\"],\n",
    "     \"j\": [\"m\"],\n",
    "     \"k\": [],\n",
    "     \"l\": [],\n",
    "     \"m\": []\n",
    "     }\n",
    "\n",
    "class DAG(object):\n",
    "    #This class is used for Directed Acyclic Graph, which is a vertex cannot get to back in a path#\n",
    "    def __init__(self, graph_dict = None):\n",
    "        if graph_dict == None:\n",
    "            graph_dict = {}\n",
    "        self.graph_dict = graph_dict\n",
    "        self.parents = dict.fromkeys(self.graph_dict.keys())\n",
    "        for key in self.parents:\n",
    "            self.parents[key] = []\n",
    "        self.get_vertex()\n",
    "        self.get_parent()\n",
    "    \n",
    "    def get_vertex(self):\n",
    "        # get the list of all vertices, which is stored in self.vertices\n",
    "        self.vertices = sorted(self.graph_dict.keys())\n",
    "#         return sorted(self.vertices)\n",
    "    \n",
    "    def get_parent(self):\n",
    "        # get the parents of all vertices, which is stored in self.parents\n",
    "        for vertex in self.vertices:\n",
    "            for i in self.vertices:\n",
    "                if vertex in self.graph_dict[i]:                    \n",
    "                    self.parents[vertex].append(i)\n",
    "    \n",
    "    def get_A(self, observe):\n",
    "        # A stands for the ancestor of the observation set Z, and we need to check V-stru with A\n",
    "        L, A = deque(), list()\n",
    "        for i in observe:\n",
    "            L.append(i)\n",
    "        while len(L) != 0:\n",
    "            n = L.popleft()\n",
    "            if n not in A:\n",
    "                for par in self.parents[n]:\n",
    "                    L.append(par)\n",
    "            A.append(n)\n",
    "        return sorted(A)\n",
    "        \n",
    "    \n",
    "    def D_sep(self, sn, observe):\n",
    "        #\n",
    "        L, V, R = deque(), list(), list()\n",
    "        L.append((sn, 'backward'))\n",
    "        A = self.get_A(observe)\n",
    "        \n",
    "        while len(L)!=0:\n",
    "            (node, direction) = L.popleft()\n",
    "            \n",
    "            if (node, direction) not in V:\n",
    "                \n",
    "                if node not in observe and node not in R:\n",
    "                    R.append(node)\n",
    "                V.append((node, direction))\n",
    "                if direction == 'backward' and node not in observe:\n",
    "                    for z in self.parents[node]:\n",
    "                        L.append((z, 'backward'))\n",
    "                    for z in self.graph_dict[node]:\n",
    "                        L.append((z, 'forward'))\n",
    "                elif direction == 'forward':\n",
    "                    if node not in observe:\n",
    "                        for z in self.graph_dict[node]:\n",
    "                            L.append((z, 'forward'))\n",
    "                    if node in A:\n",
    "                        for z in self.parents[node]:\n",
    "                            L.append((z, 'backward'))\n",
    "        return sorted(self.graph_dict.keys() - R - observe)\n",
    "    \n",
    "test = DAG(g)"
   ]
  },
  {
   "cell_type": "code",
   "execution_count": 103,
   "metadata": {},
   "outputs": [],
   "source": [
    "A = test.D_sep('g',{'d'})"
   ]
  },
  {
   "cell_type": "code",
   "execution_count": 105,
   "metadata": {},
   "outputs": [
    {
     "data": {
      "text/plain": [
       "['a', 'b', 'c', 'e', 'f', 'h', 'i', 'j', 'l', 'm']"
      ]
     },
     "execution_count": 105,
     "metadata": {},
     "output_type": "execute_result"
    }
   ],
   "source": [
    "A"
   ]
  },
  {
   "cell_type": "code",
   "execution_count": 96,
   "metadata": {},
   "outputs": [
    {
     "ename": "TypeError",
     "evalue": "unsupported operand type(s) for -: 'list' and 'str'",
     "output_type": "error",
     "traceback": [
      "\u001b[0;31m---------------------------------------------------------------------------\u001b[0m",
      "\u001b[0;31mTypeError\u001b[0m                                 Traceback (most recent call last)",
      "\u001b[0;32m<ipython-input-96-c5c459fe4584>\u001b[0m in \u001b[0;36m<module>\u001b[0;34m()\u001b[0m\n\u001b[0;32m----> 1\u001b[0;31m \u001b[0mA\u001b[0m \u001b[0;34m-\u001b[0m \u001b[0;34m'd'\u001b[0m\u001b[0;34m\u001b[0m\u001b[0m\n\u001b[0m",
      "\u001b[0;31mTypeError\u001b[0m: unsupported operand type(s) for -: 'list' and 'str'"
     ]
    }
   ],
   "source": [
    "A - 'd'"
   ]
  },
  {
   "cell_type": "code",
   "execution_count": 27,
   "metadata": {},
   "outputs": [
    {
     "data": {
      "text/plain": [
       "['d']"
      ]
     },
     "execution_count": 27,
     "metadata": {},
     "output_type": "execute_result"
    }
   ],
   "source": [
    "test.graph_dict['a']"
   ]
  },
  {
   "cell_type": "code",
   "execution_count": 30,
   "metadata": {},
   "outputs": [],
   "source": [
    "L.append(test.parents['a'])"
   ]
  },
  {
   "cell_type": "code",
   "execution_count": 35,
   "metadata": {},
   "outputs": [
    {
     "data": {
      "text/plain": [
       "2"
      ]
     },
     "execution_count": 35,
     "metadata": {},
     "output_type": "execute_result"
    }
   ],
   "source": [
    "len(g['h'])"
   ]
  },
  {
   "cell_type": "code",
   "execution_count": 77,
   "metadata": {},
   "outputs": [],
   "source": [
    "m['a'].append(\"a\")"
   ]
  },
  {
   "cell_type": "code",
   "execution_count": 98,
   "metadata": {},
   "outputs": [
    {
     "data": {
      "text/plain": [
       "['h', 'm', 'd', 'a', 'i', 'c', 'k', 'j', 'f', 'e', 'g', 'l', 'b']"
      ]
     },
     "execution_count": 98,
     "metadata": {},
     "output_type": "execute_result"
    }
   ],
   "source": [
    "list(m.keys())"
   ]
  },
  {
   "cell_type": "code",
   "execution_count": 2,
   "metadata": {},
   "outputs": [
    {
     "ename": "NameError",
     "evalue": "name 'stack' is not defined",
     "output_type": "error",
     "traceback": [
      "\u001b[0;31m---------------------------------------------------------------------------\u001b[0m",
      "\u001b[0;31mNameError\u001b[0m                                 Traceback (most recent call last)",
      "\u001b[0;32m<ipython-input-2-2cd823de8ee7>\u001b[0m in \u001b[0;36m<module>\u001b[0;34m()\u001b[0m\n\u001b[0;32m----> 1\u001b[0;31m \u001b[0ma\u001b[0m \u001b[0;34m=\u001b[0m \u001b[0mstack\u001b[0m\u001b[0;34m(\u001b[0m\u001b[0;34m)\u001b[0m\u001b[0;34m\u001b[0m\u001b[0m\n\u001b[0m\u001b[1;32m      2\u001b[0m \u001b[0;34m\u001b[0m\u001b[0m\n\u001b[1;32m      3\u001b[0m \u001b[0ma\u001b[0m\u001b[0;34m.\u001b[0m\u001b[0mappend\u001b[0m\u001b[0;34m(\u001b[0m\u001b[0;34m\"a\"\u001b[0m\u001b[0;34m)\u001b[0m\u001b[0;34m\u001b[0m\u001b[0m\n\u001b[1;32m      4\u001b[0m \u001b[0ma\u001b[0m\u001b[0;34m.\u001b[0m\u001b[0mappend\u001b[0m\u001b[0;34m(\u001b[0m\u001b[0;34m\"d\"\u001b[0m\u001b[0;34m)\u001b[0m\u001b[0;34m\u001b[0m\u001b[0m\n\u001b[1;32m      5\u001b[0m \u001b[0ma\u001b[0m\u001b[0;34m.\u001b[0m\u001b[0mappend\u001b[0m\u001b[0;34m(\u001b[0m\u001b[0;34m\"v\"\u001b[0m\u001b[0;34m)\u001b[0m\u001b[0;34m\u001b[0m\u001b[0m\n",
      "\u001b[0;31mNameError\u001b[0m: name 'stack' is not defined"
     ]
    }
   ],
   "source": [
    "a = stack()\n",
    "\n",
    "a.append(\"a\")\n",
    "a.append(\"d\")\n",
    "a.append(\"v\")\n",
    "\n",
    "a.append(\"g\")"
   ]
  },
  {
   "cell_type": "code",
   "execution_count": 111,
   "metadata": {},
   "outputs": [
    {
     "data": {
      "text/plain": [
       "<function list.pop>"
      ]
     },
     "execution_count": 111,
     "metadata": {},
     "output_type": "execute_result"
    }
   ],
   "source": [
    "a.pop"
   ]
  },
  {
   "cell_type": "code",
   "execution_count": 112,
   "metadata": {},
   "outputs": [
    {
     "data": {
      "text/plain": [
       "['a', 'd', 'v', 'g']"
      ]
     },
     "execution_count": 112,
     "metadata": {},
     "output_type": "execute_result"
    }
   ],
   "source": [
    "a"
   ]
  },
  {
   "cell_type": "code",
   "execution_count": 3,
   "metadata": {},
   "outputs": [],
   "source": [
    "from collections import deque\n",
    "a = deque()\n",
    "a.append(\"a\")\n",
    "a.append(\"d\")\n",
    "a.append(\"v\")\n",
    "\n",
    "a.append(\"g\")"
   ]
  },
  {
   "cell_type": "code",
   "execution_count": 9,
   "metadata": {},
   "outputs": [],
   "source": [
    "v = a.popleft()"
   ]
  },
  {
   "cell_type": "code",
   "execution_count": 10,
   "metadata": {},
   "outputs": [
    {
     "data": {
      "text/plain": [
       "('a', deque(['d', 'v']))"
      ]
     },
     "execution_count": 10,
     "metadata": {},
     "output_type": "execute_result"
    }
   ],
   "source": [
    "v, a"
   ]
  },
  {
   "cell_type": "code",
   "execution_count": 12,
   "metadata": {},
   "outputs": [
    {
     "data": {
      "text/plain": [
       "0"
      ]
     },
     "execution_count": 12,
     "metadata": {},
     "output_type": "execute_result"
    }
   ],
   "source": [
    "from collections import deque\n",
    "a = deque()\n",
    "len(a)"
   ]
  },
  {
   "cell_type": "code",
   "execution_count": null,
   "metadata": {},
   "outputs": [],
   "source": []
  }
 ],
 "metadata": {
  "kernelspec": {
   "display_name": "Python 3",
   "language": "python",
   "name": "python3"
  },
  "language_info": {
   "codemirror_mode": {
    "name": "ipython",
    "version": 3
   },
   "file_extension": ".py",
   "mimetype": "text/x-python",
   "name": "python",
   "nbconvert_exporter": "python",
   "pygments_lexer": "ipython3",
   "version": "3.5.5"
  }
 },
 "nbformat": 4,
 "nbformat_minor": 2
}
