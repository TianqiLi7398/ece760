{
 "cells": [
  {
   "cell_type": "code",
   "execution_count": 1,
   "metadata": {},
   "outputs": [],
   "source": [
    "g = {\"a\": [\"d\"],\n",
    "     \"b\": [\"d\"],\n",
    "     \"c\": [\"e\"],\n",
    "     \"d\": [\"g\", \"h\"],\n",
    "     \"e\": [\"i\"],\n",
    "     \"f\": [\"i\", \"j\"],\n",
    "     \"g\": [\"k\"],\n",
    "     \"h\": [\"k\", \"e\"],\n",
    "     \"i\": [\"l\"],\n",
    "     \"j\": [\"m\"],\n",
    "     \"k\": [],\n",
    "     \"l\": [],\n",
    "     \"m\": []\n",
    "     }"
   ]
  },
  {
   "cell_type": "code",
   "execution_count": 9,
   "metadata": {},
   "outputs": [
    {
     "data": {
      "text/plain": [
       "['a', 'b', 'c', 'd', 'e', 'f', 'g', 'h', 'i', 'j', 'k', 'l', 'm']"
      ]
     },
     "execution_count": 9,
     "metadata": {},
     "output_type": "execute_result"
    }
   ],
   "source": [
    "sorted(g.keys())"
   ]
  },
  {
   "cell_type": "code",
   "execution_count": 15,
   "metadata": {},
   "outputs": [
    {
     "data": {
      "text/plain": [
       "[]"
      ]
     },
     "execution_count": 15,
     "metadata": {},
     "output_type": "execute_result"
    }
   ],
   "source": [
    "g['m']"
   ]
  },
  {
   "cell_type": "code",
   "execution_count": 38,
   "metadata": {},
   "outputs": [
    {
     "name": "stdout",
     "output_type": "stream",
     "text": [
      "a :\n",
      "{'d', 'a'}\n",
      "b :\n",
      "{'d', 'b'}\n",
      "c :\n",
      "{'e', 'c'}\n",
      "d :\n",
      "{'d', 'g'}\n",
      "{'d', 'h'}\n",
      "e :\n",
      "{'e', 'i'}\n",
      "f :\n",
      "{'f', 'i'}\n",
      "{'j', 'f'}\n",
      "g :\n",
      "{'k', 'g'}\n",
      "h :\n",
      "{'k', 'h'}\n",
      "{'e', 'h'}\n",
      "i :\n",
      "{'l', 'i'}\n",
      "j :\n",
      "{'j', 'm'}\n",
      "k :\n",
      "l :\n",
      "m :\n",
      "[{'d', 'a'}, {'d', 'b'}, {'e', 'c'}, {'d', 'g'}, {'d', 'h'}, {'e', 'i'}, {'f', 'i'}, {'j', 'f'}, {'k', 'g'}, {'k', 'h'}, {'e', 'h'}, {'l', 'i'}, {'j', 'm'}]\n",
      "{'d', 'a'}\n",
      "{'d', 'b'}\n",
      "{'e', 'c'}\n",
      "{'d', 'g'}\n",
      "{'d', 'h'}\n",
      "{'e', 'i'}\n",
      "{'f', 'i'}\n",
      "{'j', 'f'}\n",
      "{'k', 'g'}\n",
      "{'k', 'h'}\n",
      "{'e', 'h'}\n",
      "{'l', 'i'}\n",
      "{'j', 'm'}\n"
     ]
    }
   ],
   "source": [
    "edge = []\n",
    "for vertice in sorted(g.keys()):\n",
    "    print(vertice, \":\")\n",
    "    for children in g[vertice]:\n",
    "        print({vertice, children})\n",
    "        edge.append({ children, vertice})\n",
    "print(edge)\n",
    "for i in range(len(edge)):\n",
    "    print(edge[i])"
   ]
  },
  {
   "cell_type": "code",
   "execution_count": 39,
   "metadata": {},
   "outputs": [
    {
     "data": {
      "text/plain": [
       "{'h', 'k'}"
      ]
     },
     "execution_count": 39,
     "metadata": {},
     "output_type": "execute_result"
    }
   ],
   "source": [
    "def find_path(start, end):\n",
    "    for child in g[start]:\n",
    "        if child == "
   ]
  },
  {
   "cell_type": "code",
   "execution_count": null,
   "metadata": {},
   "outputs": [],
   "source": [
    "def depthfirstsearch()"
   ]
  },
  {
   "cell_type": "code",
   "execution_count": 43,
   "metadata": {},
   "outputs": [
    {
     "data": {
      "text/plain": [
       "True"
      ]
     },
     "execution_count": 43,
     "metadata": {},
     "output_type": "execute_result"
    }
   ],
   "source": [
    "len(g['l']) == 0"
   ]
  },
  {
   "cell_type": "code",
   "execution_count": 94,
   "metadata": {},
   "outputs": [],
   "source": [
    "class DAG(object):\n",
    "    #This class is used for Directed Acyclic Graph, which is a vertex cannot get to back in a path#\n",
    "    def __init__(self, graph_dict = None):\n",
    "        if graph_dict == None:\n",
    "            graph_dict = {}\n",
    "        self.graph_dict = graph_dict\n",
    "        self.parents = dict.fromkeys(self.graph_dict.keys())\n",
    "        for key in self.parents:\n",
    "            self.parents[key] = []\n",
    "    \n",
    "    def get_vertex(self):\n",
    "        # get the list of all vertices, which is stored in self.vertices\n",
    "        self.vertices = sorted(self.graph_dict.keys())\n",
    "#         return sorted(self.vertices)\n",
    "    \n",
    "    def get_parent(self):\n",
    "        # get the parents of all vertices, which is stored in self.parents\n",
    "        for vertex in self.vertices:\n",
    "            for i in self.vertices:\n",
    "                if vertex in self.graph_dict[i]:                    \n",
    "                    self.parents[vertex].append(i)\n",
    "    \n",
    "    def depthfirstsearch(self, sn, en, observe):\n",
    "        check = list()\n",
    "        if len(self.graph_dict[se]) == 0:\n",
    "            return \"no path can be found\"\n",
    "        for a in self.graph_dict[se]:\n",
    "            check.append(a)\n",
    "            \n",
    "        \n",
    "    \n",
    "test = DAG(g)"
   ]
  },
  {
   "cell_type": "code",
   "execution_count": 95,
   "metadata": {},
   "outputs": [
    {
     "data": {
      "text/plain": [
       "{'a': [],\n",
       " 'b': [],\n",
       " 'c': [],\n",
       " 'd': ['a', 'b'],\n",
       " 'e': ['c', 'h'],\n",
       " 'f': [],\n",
       " 'g': ['d'],\n",
       " 'h': ['d'],\n",
       " 'i': ['e', 'f'],\n",
       " 'j': ['f'],\n",
       " 'k': ['g', 'h'],\n",
       " 'l': ['i'],\n",
       " 'm': ['j']}"
      ]
     },
     "execution_count": 95,
     "metadata": {},
     "output_type": "execute_result"
    }
   ],
   "source": [
    "test.get_vertex()\n",
    "test.get_parent()\n",
    "test.parents"
   ]
  },
  {
   "cell_type": "code",
   "execution_count": 75,
   "metadata": {},
   "outputs": [],
   "source": [
    "m = dict.fromkeys(g.keys())\n",
    "for key in m:\n",
    "    m[key] = []"
   ]
  },
  {
   "cell_type": "code",
   "execution_count": 77,
   "metadata": {},
   "outputs": [],
   "source": [
    "m['a'].append(\"a\")"
   ]
  },
  {
   "cell_type": "code",
   "execution_count": 98,
   "metadata": {},
   "outputs": [
    {
     "data": {
      "text/plain": [
       "['h', 'm', 'd', 'a', 'i', 'c', 'k', 'j', 'f', 'e', 'g', 'l', 'b']"
      ]
     },
     "execution_count": 98,
     "metadata": {},
     "output_type": "execute_result"
    }
   ],
   "source": [
    "list(m.keys())"
   ]
  },
  {
   "cell_type": "code",
   "execution_count": 113,
   "metadata": {},
   "outputs": [
    {
     "ename": "NameError",
     "evalue": "name 'stack' is not defined",
     "output_type": "error",
     "traceback": [
      "\u001b[0;31m---------------------------------------------------------------------------\u001b[0m",
      "\u001b[0;31mNameError\u001b[0m                                 Traceback (most recent call last)",
      "\u001b[0;32m<ipython-input-113-2cd823de8ee7>\u001b[0m in \u001b[0;36m<module>\u001b[0;34m()\u001b[0m\n\u001b[0;32m----> 1\u001b[0;31m \u001b[0ma\u001b[0m \u001b[0;34m=\u001b[0m \u001b[0mstack\u001b[0m\u001b[0;34m(\u001b[0m\u001b[0;34m)\u001b[0m\u001b[0;34m\u001b[0m\u001b[0m\n\u001b[0m\u001b[1;32m      2\u001b[0m \u001b[0;34m\u001b[0m\u001b[0m\n\u001b[1;32m      3\u001b[0m \u001b[0ma\u001b[0m\u001b[0;34m.\u001b[0m\u001b[0mappend\u001b[0m\u001b[0;34m(\u001b[0m\u001b[0;34m\"a\"\u001b[0m\u001b[0;34m)\u001b[0m\u001b[0;34m\u001b[0m\u001b[0m\n\u001b[1;32m      4\u001b[0m \u001b[0ma\u001b[0m\u001b[0;34m.\u001b[0m\u001b[0mappend\u001b[0m\u001b[0;34m(\u001b[0m\u001b[0;34m\"d\"\u001b[0m\u001b[0;34m)\u001b[0m\u001b[0;34m\u001b[0m\u001b[0m\n\u001b[1;32m      5\u001b[0m \u001b[0ma\u001b[0m\u001b[0;34m.\u001b[0m\u001b[0mappend\u001b[0m\u001b[0;34m(\u001b[0m\u001b[0;34m\"v\"\u001b[0m\u001b[0;34m)\u001b[0m\u001b[0;34m\u001b[0m\u001b[0m\n",
      "\u001b[0;31mNameError\u001b[0m: name 'stack' is not defined"
     ]
    }
   ],
   "source": [
    "a = stack()\n",
    "\n",
    "a.append(\"a\")\n",
    "a.append(\"d\")\n",
    "a.append(\"v\")\n",
    "\n",
    "a.append(\"g\")"
   ]
  },
  {
   "cell_type": "code",
   "execution_count": 111,
   "metadata": {},
   "outputs": [
    {
     "data": {
      "text/plain": [
       "<function list.pop>"
      ]
     },
     "execution_count": 111,
     "metadata": {},
     "output_type": "execute_result"
    }
   ],
   "source": [
    "a.pop"
   ]
  },
  {
   "cell_type": "code",
   "execution_count": 112,
   "metadata": {},
   "outputs": [
    {
     "data": {
      "text/plain": [
       "['a', 'd', 'v', 'g']"
      ]
     },
     "execution_count": 112,
     "metadata": {},
     "output_type": "execute_result"
    }
   ],
   "source": [
    "a"
   ]
  },
  {
   "cell_type": "code",
   "execution_count": 122,
   "metadata": {},
   "outputs": [],
   "source": [
    "from collections import deque\n",
    "a = deque()\n",
    "a.append(\"a\")\n",
    "a.append(\"d\")\n",
    "a.append(\"v\")\n",
    "\n",
    "a.append(\"g\")"
   ]
  },
  {
   "cell_type": "code",
   "execution_count": 123,
   "metadata": {},
   "outputs": [
    {
     "data": {
      "text/plain": [
       "deque(['a', 'd', 'v'])"
      ]
     },
     "execution_count": 123,
     "metadata": {},
     "output_type": "execute_result"
    }
   ],
   "source": [
    "a\n",
    "a.pop()\n",
    "a"
   ]
  },
  {
   "cell_type": "code",
   "execution_count": null,
   "metadata": {},
   "outputs": [],
   "source": []
  }
 ],
 "metadata": {
  "kernelspec": {
   "display_name": "Python 3",
   "language": "python",
   "name": "python3"
  },
  "language_info": {
   "codemirror_mode": {
    "name": "ipython",
    "version": 3
   },
   "file_extension": ".py",
   "mimetype": "text/x-python",
   "name": "python",
   "nbconvert_exporter": "python",
   "pygments_lexer": "ipython3",
   "version": "3.5.5"
  }
 },
 "nbformat": 4,
 "nbformat_minor": 2
}
